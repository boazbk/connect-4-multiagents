{
 "cells": [
  {
   "cell_type": "code",
   "execution_count": 1,
   "id": "a2b40093-54e0-46da-b4f0-64bfc345c20a",
   "metadata": {},
   "outputs": [],
   "source": [
    "%run connect4.py"
   ]
  },
  {
   "cell_type": "code",
   "execution_count": 2,
   "id": "6de12610-b4b0-47f4-9281-78b234f198ce",
   "metadata": {},
   "outputs": [],
   "source": [
    "REPETITIONS = 5\n",
    "NOISE = 0.4"
   ]
  },
  {
   "cell_type": "code",
   "execution_count": 3,
   "id": "0270eeac-e1d0-42b0-9223-434ad5095dc8",
   "metadata": {},
   "outputs": [],
   "source": [
    "import argparse\n",
    "import sys\n",
    "import os\n",
    "from bots import *\n",
    "from board import *\n",
    "from connect4 import connect4\n",
    "bot_map = {\n",
    "    'Random': RandomBot,\n",
    "    'One step': OneStepLookAheadBot,\n",
    "    'Minimax': MiniMaxBot,\n",
    "    #'expectimax': ExpectiMaxBot,\n",
    "    'Monte Carlo': MonteCarloBot\n",
    "}\n",
    "\n",
    "name_map = {\n",
    "    'random': 'Random Bot',\n",
    "    'onestep': 'One Step Look Ahead Bot',\n",
    "    'minimax': 'MiniMax Bot',\n",
    "    'expectimax': 'ExpectiMax Bot',\n",
    "    'montecarlo': 'Monte Carlo Tree Search Bot'\n",
    "}\n",
    "\n",
    "board = Board(1)\n",
    "\n",
    "def str2bool(v):\n",
    "    if isinstance(v, bool):\n",
    "       return v\n",
    "    if v.lower() in ('yes', 'true', 't', 'y', '1'):\n",
    "        return True\n",
    "    elif v.lower() in ('no', 'false', 'f', 'n', '0'):\n",
    "        return False\n",
    "    else:\n",
    "        raise argparse.ArgumentTypeError('Boolean value expected.')"
   ]
  },
  {
   "cell_type": "code",
   "execution_count": 4,
   "id": "2f42a506-a608-4c00-a728-132fc17369da",
   "metadata": {},
   "outputs": [],
   "source": [
    "import matplotlib.pyplot as plt\n",
    "import numpy as np"
   ]
  },
  {
   "cell_type": "code",
   "execution_count": 5,
   "id": "d6b00622-44b5-4e33-957a-93e78de255b9",
   "metadata": {},
   "outputs": [
    {
     "data": {
      "text/plain": [
       "{'Random': bots.random.RandomBot,\n",
       " 'One step': bots.onesteplook.OneStepLookAheadBot,\n",
       " 'Minimax': bots.minimax.MiniMaxBot,\n",
       " 'Monte Carlo': bots.montecarlo.MonteCarloBot}"
      ]
     },
     "execution_count": 5,
     "metadata": {},
     "output_type": "execute_result"
    }
   ],
   "source": [
    "bot_map"
   ]
  },
  {
   "cell_type": "code",
   "execution_count": 6,
   "id": "c2e21255-297a-4442-910c-f0c92c812455",
   "metadata": {},
   "outputs": [
    {
     "data": {
      "text/plain": [
       "[[0, 0, 0, 0], [0, 0, 0, 0], [0, 0, 0, 0], [0, 0, 0, 0]]"
      ]
     },
     "execution_count": 6,
     "metadata": {},
     "output_type": "execute_result"
    }
   ],
   "source": [
    "scores = [[0 for i in range(len(bot_map))] for j in range(len(bot_map))]\n",
    "scores"
   ]
  },
  {
   "cell_type": "code",
   "execution_count": 7,
   "id": "25aed15f-5bf4-4e8b-9da0-62f049a1d763",
   "metadata": {},
   "outputs": [
    {
     "name": "stdout",
     "output_type": "stream",
     "text": [
      "Round 0\n",
      "Starting game <class 'bots.random.RandomBot'>  vs.  <class 'bots.random.RandomBot'> noise: 0.0\n",
      "1 2 1 2 1 2 1 2 1 2 1 2 1 2 1 2 1 \n",
      "PLAYER 1 WINS!\n",
      "P1 time: 0.00 seconds MOVES: 9 | P2 time0.00 seconds MOVES: 8\n",
      "Starting game <class 'bots.random.RandomBot'>  vs.  <class 'bots.onesteplook.OneStepLookAheadBot'> noise: 0.0\n",
      "2 1 2 1 2 1 2 1 2 1 2 1 2 1 2 1 2 1 2 1 2 1 2 \n",
      "PLAYER 2 WINS!\n",
      "P1 time: 0.00 seconds MOVES: 11 | P2 time0.01 seconds MOVES: 12\n",
      "Starting game <class 'bots.random.RandomBot'>  vs.  <class 'bots.minimax.MiniMaxBot'> noise: 0.0\n",
      "1 2 1 2 1 2 1 2 1 2 1 2 1 2 1 2 1 2 1 2 1 2 \n",
      "PLAYER 2 WINS!\n",
      "P1 time: 0.00 seconds MOVES: 11 | P2 time88.37 seconds MOVES: 11\n",
      "Starting game <class 'bots.random.RandomBot'>  vs.  <class 'bots.montecarlo.MonteCarloBot'> noise: 0.0\n",
      "1 2 1 2 1 2 1 2 1 2 \n",
      "PLAYER 2 WINS!\n",
      "P1 time: 0.00 seconds MOVES: 5 | P2 time4.23 seconds MOVES: 5\n",
      "Starting game <class 'bots.onesteplook.OneStepLookAheadBot'>  vs.  <class 'bots.random.RandomBot'> noise: 0.0\n",
      "1 2 1 2 1 2 1 2 1 2 1 2 1 2 1 2 1 2 1 2 1 \n",
      "PLAYER 1 WINS!\n",
      "P1 time: 0.01 seconds MOVES: 11 | P2 time0.00 seconds MOVES: 10\n",
      "Starting game <class 'bots.onesteplook.OneStepLookAheadBot'>  vs.  <class 'bots.onesteplook.OneStepLookAheadBot'> noise: 0.0\n",
      "2 1 2 1 2 1 2 1 2 1 2 1 2 1 2 1 2 1 2 1 2 1 2 1 2 1 2 1 2 1 \n",
      "PLAYER 1 WINS!\n",
      "P1 time: 0.01 seconds MOVES: 15 | P2 time0.01 seconds MOVES: 15\n",
      "Starting game <class 'bots.onesteplook.OneStepLookAheadBot'>  vs.  <class 'bots.minimax.MiniMaxBot'> noise: 0.0\n",
      "2 1 2 1 2 1 2 1 2 1 2 1 2 1 2 1 2 1 2 \n",
      "PLAYER 2 WINS!\n",
      "P1 time: 0.01 seconds MOVES: 9 | P2 time46.43 seconds MOVES: 10\n",
      "Starting game <class 'bots.onesteplook.OneStepLookAheadBot'>  vs.  <class 'bots.montecarlo.MonteCarloBot'> noise: 0.0\n",
      "1 2 1 2 1 2 1 2 1 2 1 2 1 2 1 2 1 2 \n",
      "PLAYER 2 WINS!\n",
      "P1 time: 0.01 seconds MOVES: 9 | P2 time8.47 seconds MOVES: 9\n",
      "Starting game <class 'bots.minimax.MiniMaxBot'>  vs.  <class 'bots.random.RandomBot'> noise: 0.0\n",
      "1 2 1 2 1 2 1 2 1 \n",
      "PLAYER 1 WINS!\n",
      "P1 time: 34.62 seconds MOVES: 5 | P2 time0.00 seconds MOVES: 4\n",
      "Starting game <class 'bots.minimax.MiniMaxBot'>  vs.  <class 'bots.onesteplook.OneStepLookAheadBot'> noise: 0.0\n",
      "2 1 2 1 2 1 2 1 2 1 2 1 2 1 2 1 2 1 2 1 2 1 2 1 2 1 2 1 2 1 2 1 2 1 2 1 \n",
      "PLAYER 1 WINS!\n",
      "P1 time: 86.19 seconds MOVES: 18 | P2 time0.01 seconds MOVES: 18\n",
      "Starting game <class 'bots.minimax.MiniMaxBot'>  vs.  <class 'bots.minimax.MiniMaxBot'> noise: 0.0\n",
      "2 1 2 1 2 1 2 1 2 1 2 1 2 1 2 1 2 1 2 1 2 1 2 1 2 1 2 1 2 \n",
      "PLAYER 2 WINS!\n",
      "P1 time: 66.15 seconds MOVES: 14 | P2 time67.75 seconds MOVES: 15\n",
      "Starting game <class 'bots.minimax.MiniMaxBot'>  vs.  <class 'bots.montecarlo.MonteCarloBot'> noise: 0.0\n",
      "1 2 1 2 1 2 1 2 1 \n",
      "PLAYER 1 WINS!\n",
      "P1 time: 37.98 seconds MOVES: 5 | P2 time3.32 seconds MOVES: 4\n",
      "Starting game <class 'bots.montecarlo.MonteCarloBot'>  vs.  <class 'bots.random.RandomBot'> noise: 0.0\n",
      "2 1 2 1 2 1 2 1 \n",
      "PLAYER 1 WINS!\n",
      "P1 time: 3.26 seconds MOVES: 4 | P2 time0.00 seconds MOVES: 4\n",
      "Starting game <class 'bots.montecarlo.MonteCarloBot'>  vs.  <class 'bots.onesteplook.OneStepLookAheadBot'> noise: 0.0\n",
      "2 1 2 1 2 1 2 1 2 1 2 1 2 1 2 1 2 1 2 1 2 1 2 1 2 1 2 1 2 1 2 1 2 1 2 1 2 1 2 1 \n",
      "PLAYER 1 WINS!\n",
      "P1 time: 22.85 seconds MOVES: 20 | P2 time0.01 seconds MOVES: 20\n",
      "Starting game <class 'bots.montecarlo.MonteCarloBot'>  vs.  <class 'bots.minimax.MiniMaxBot'> noise: 0.0\n",
      "2 1 2 1 2 1 2 1 2 1 2 1 2 1 2 1 2 1 2 1 2 1 2 1 2 1 2 1 2 1 2 1 2 \n",
      "PLAYER 2 WINS!\n",
      "P1 time: 18.34 seconds MOVES: 16 | P2 time72.91 seconds MOVES: 17\n",
      "Starting game <class 'bots.montecarlo.MonteCarloBot'>  vs.  <class 'bots.montecarlo.MonteCarloBot'> noise: 0.0\n",
      "1 2 1 2 1 2 1 2 1 2 1 2 1 2 1 2 \n",
      "PLAYER 2 WINS!\n",
      "P1 time: 8.18 seconds MOVES: 8 | P2 time7.66 seconds MOVES: 8\n"
     ]
    },
    {
     "data": {
      "image/png": "[encoded data removed]",
      "text/plain": [
       "<Figure size 432x288 with 1 Axes>"
      ]
     },
     "metadata": {
      "needs_background": "light"
     },
     "output_type": "display_data"
    },
    {
     "name": "stdout",
     "output_type": "stream",
     "text": [
      "[[1, -1, -1, -1], [1, 1, -1, -1], [1, 1, -1, 1], [1, 1, -1, -1]]\n",
      "Round 1\n",
      "Starting game <class 'bots.random.RandomBot'>  vs.  <class 'bots.random.RandomBot'> noise: 0.0\n",
      "1 2 1 2 1 2 1 2 1 2 1 2 1 2 1 2 1 2 1 2 1 2 1 \n",
      "PLAYER 1 WINS!\n",
      "P1 time: 0.00 seconds MOVES: 12 | P2 time0.00 seconds MOVES: 11\n",
      "Starting game <class 'bots.random.RandomBot'>  vs.  <class 'bots.onesteplook.OneStepLookAheadBot'> noise: 0.0\n",
      "2 1 2 1 2 1 2 1 2 1 2 1 2 \n",
      "PLAYER 2 WINS!\n",
      "P1 time: 0.00 seconds MOVES: 6 | P2 time0.00 seconds MOVES: 7\n",
      "Starting game <class 'bots.random.RandomBot'>  vs.  <class 'bots.minimax.MiniMaxBot'> noise: 0.0\n",
      "1 2 1 2 1 2 1 2 \n",
      "PLAYER 2 WINS!\n",
      "P1 time: 0.00 seconds MOVES: 4 | P2 time28.31 seconds MOVES: 4\n",
      "Starting game <class 'bots.random.RandomBot'>  vs.  <class 'bots.montecarlo.MonteCarloBot'> noise: 0.0\n",
      "1 2 1 2 1 2 1 2 \n",
      "PLAYER 2 WINS!\n",
      "P1 time: 0.00 seconds MOVES: 4 | P2 time3.23 seconds MOVES: 4\n",
      "Starting game <class 'bots.onesteplook.OneStepLookAheadBot'>  vs.  <class 'bots.random.RandomBot'> noise: 0.0\n",
      "1 2 1 2 1 2 1 2 1 \n",
      "PLAYER 1 WINS!\n",
      "P1 time: 0.00 seconds MOVES: 5 | P2 time0.00 seconds MOVES: 4\n",
      "Starting game <class 'bots.onesteplook.OneStepLookAheadBot'>  vs.  <class 'bots.onesteplook.OneStepLookAheadBot'> noise: 0.0\n",
      "2 1 2 1 2 1 2 1 2 1 2 1 2 1 2 \n",
      "PLAYER 2 WINS!\n",
      "P1 time: 0.00 seconds MOVES: 7 | P2 time0.01 seconds MOVES: 8\n",
      "Starting game <class 'bots.onesteplook.OneStepLookAheadBot'>  vs.  <class 'bots.minimax.MiniMaxBot'> noise: 0.0\n",
      "1 2 1 2 1 2 1 2 1 2 1 2 1 2 1 2 1 2 \n",
      "PLAYER 2 WINS!\n",
      "P1 time: 0.01 seconds MOVES: 9 | P2 time38.33 seconds MOVES: 9\n",
      "Starting game <class 'bots.onesteplook.OneStepLookAheadBot'>  vs.  <class 'bots.montecarlo.MonteCarloBot'> noise: 0.0\n",
      "1 2 1 2 1 2 1 2 1 2 1 2 \n",
      "PLAYER 2 WINS!\n",
      "P1 time: 0.00 seconds MOVES: 6 | P2 time5.02 seconds MOVES: 6\n",
      "Starting game <class 'bots.minimax.MiniMaxBot'>  vs.  <class 'bots.random.RandomBot'> noise: 0.0\n",
      "1 2 1 2 1 2 1 \n",
      "PLAYER 1 WINS!\n",
      "P1 time: 32.38 seconds MOVES: 4 | P2 time0.00 seconds MOVES: 3\n",
      "Starting game <class 'bots.minimax.MiniMaxBot'>  vs.  <class 'bots.onesteplook.OneStepLookAheadBot'> noise: 0.0\n",
      "2 1 2 1 2 1 2 1 2 1 2 1 \n",
      "PLAYER 1 WINS!\n",
      "P1 time: 34.67 seconds MOVES: 6 | P2 time0.00 seconds MOVES: 6\n",
      "Starting game <class 'bots.minimax.MiniMaxBot'>  vs.  <class 'bots.minimax.MiniMaxBot'> noise: 0.0\n",
      "2 1 2 1 2 1 2 1 2 1 2 1 2 1 2 1 2 1 2 1 2 1 2 1 2 1 2 1 2 \n",
      "PLAYER 2 WINS!\n",
      "P1 time: 66.02 seconds MOVES: 14 | P2 time67.48 seconds MOVES: 15\n",
      "Starting game <class 'bots.minimax.MiniMaxBot'>  vs.  <class 'bots.montecarlo.MonteCarloBot'> noise: 0.0\n",
      "1 2 1 2 1 2 1 2 1 2 1 2 1 2 1 2 1 2 1 2 1 2 1 2 1 2 1 2 1 2 1 2 1 2 1 \n",
      "PLAYER 1 WINS!\n",
      "P1 time: 55.02 seconds MOVES: 18 | P2 time17.66 seconds MOVES: 17\n",
      "Starting game <class 'bots.montecarlo.MonteCarloBot'>  vs.  <class 'bots.random.RandomBot'> noise: 0.0\n",
      "2 1 2 1 2 1 2 1 2 1 2 1 2 1 2 1 \n",
      "PLAYER 1 WINS!\n",
      "P1 time: 7.24 seconds MOVES: 8 | P2 time0.00 seconds MOVES: 8\n",
      "Starting game <class 'bots.montecarlo.MonteCarloBot'>  vs.  <class 'bots.onesteplook.OneStepLookAheadBot'> noise: 0.0\n",
      "2 1 2 1 2 1 2 1 2 1 \n",
      "PLAYER 1 WINS!\n",
      "P1 time: 3.85 seconds MOVES: 5 | P2 time0.00 seconds MOVES: 5\n",
      "Starting game <class 'bots.montecarlo.MonteCarloBot'>  vs.  <class 'bots.minimax.MiniMaxBot'> noise: 0.0\n",
      "2 1 2 1 2 1 2 1 2 1 2 1 2 1 2 \n",
      "PLAYER 2 WINS!\n",
      "P1 time: 5.75 seconds MOVES: 7 | P2 time50.21 seconds MOVES: 8\n",
      "Starting game <class 'bots.montecarlo.MonteCarloBot'>  vs.  <class 'bots.montecarlo.MonteCarloBot'> noise: 0.0\n",
      "1 2 1 2 1 2 1 2 1 2 1 2 1 2 \n",
      "PLAYER 2 WINS!\n",
      "P1 time: 6.47 seconds MOVES: 7 | P2 time6.00 seconds MOVES: 7\n"
     ]
    },
    {
     "data": {
      "image/png": "[encoded data removed]",
      "text/plain": [
       "<Figure size 432x288 with 1 Axes>"
      ]
     },
     "metadata": {
      "needs_background": "light"
     },
     "output_type": "display_data"
    },
    {
     "name": "stdout",
     "output_type": "stream",
     "text": [
      "[[2, -2, -2, -2], [2, 0, -2, -2], [2, 2, -2, 2], [2, 2, -2, -2]]\n",
      "Round 2\n",
      "Starting game <class 'bots.random.RandomBot'>  vs.  <class 'bots.random.RandomBot'> noise: 0.0\n",
      "1 2 1 2 1 2 1 2 1 2 1 2 1 2 1 2 \n",
      "PLAYER 2 WINS!\n",
      "P1 time: 0.00 seconds MOVES: 8 | P2 time0.00 seconds MOVES: 8\n",
      "Starting game <class 'bots.random.RandomBot'>  vs.  <class 'bots.onesteplook.OneStepLookAheadBot'> noise: 0.0\n",
      "1 2 1 2 1 2 1 2 1 2 1 2 1 2 1 2 1 2 1 2 1 2 1 2 \n",
      "PLAYER 2 WINS!\n",
      "P1 time: 0.00 seconds MOVES: 12 | P2 time0.01 seconds MOVES: 12\n",
      "Starting game <class 'bots.random.RandomBot'>  vs.  <class 'bots.minimax.MiniMaxBot'> noise: 0.0\n",
      "1 2 1 2 1 2 1 2 1 2 1 2 1 2 1 2 1 2 1 2 1 2 1 2 \n",
      "PLAYER 2 WINS!\n",
      "P1 time: 0.00 seconds MOVES: 12 | P2 time51.74 seconds MOVES: 12\n",
      "Starting game <class 'bots.random.RandomBot'>  vs.  <class 'bots.montecarlo.MonteCarloBot'> noise: 0.0\n",
      "1 2 1 2 1 2 1 2 1 2 \n",
      "PLAYER 2 WINS!\n",
      "P1 time: 0.00 seconds MOVES: 5 | P2 time4.45 seconds MOVES: 5\n",
      "Starting game <class 'bots.onesteplook.OneStepLookAheadBot'>  vs.  <class 'bots.random.RandomBot'> noise: 0.0\n",
      "1 2 1 2 1 2 1 2 1 2 1 2 1 2 1 2 1 2 1 2 1 2 1 2 1 2 1 2 1 \n",
      "PLAYER 1 WINS!\n",
      "P1 time: 0.01 seconds MOVES: 15 | P2 time0.00 seconds MOVES: 14\n",
      "Starting game <class 'bots.onesteplook.OneStepLookAheadBot'>  vs.  <class 'bots.onesteplook.OneStepLookAheadBot'> noise: 0.0\n",
      "2 1 2 1 2 1 2 1 2 1 2 1 2 1 2 1 2 1 2 1 2 1 2 1 2 1 2 1 2 1 \n",
      "PLAYER 1 WINS!\n",
      "P1 time: 0.01 seconds MOVES: 15 | P2 time0.01 seconds MOVES: 15\n",
      "Starting game <class 'bots.onesteplook.OneStepLookAheadBot'>  vs.  <class 'bots.minimax.MiniMaxBot'> noise: 0.0\n",
      "2 1 2 1 2 1 2 1 2 1 2 1 2 1 2 1 2 1 2 1 2 1 2 \n",
      "PLAYER 2 WINS!\n",
      "P1 time: 0.01 seconds MOVES: 11 | P2 time47.29 seconds MOVES: 12\n",
      "Starting game <class 'bots.onesteplook.OneStepLookAheadBot'>  vs.  <class 'bots.montecarlo.MonteCarloBot'> noise: 0.0\n",
      "1 2 1 2 1 2 1 2 1 2 1 2 1 2 1 2 1 2 1 2 1 2 1 2 \n",
      "PLAYER 2 WINS!\n",
      "P1 time: 0.01 seconds MOVES: 12 | P2 time12.75 seconds MOVES: 12\n",
      "Starting game <class 'bots.minimax.MiniMaxBot'>  vs.  <class 'bots.random.RandomBot'> noise: 0.0\n",
      "1 2 1 2 1 2 1 2 1 2 1 2 1 2 1 2 1 2 1 2 1 \n",
      "PLAYER 1 WINS!\n",
      "P1 time: 41.03 seconds MOVES: 11 | P2 time0.00 seconds MOVES: 10\n",
      "Starting game <class 'bots.minimax.MiniMaxBot'>  vs.  <class 'bots.onesteplook.OneStepLookAheadBot'> noise: 0.0\n",
      "2 1 2 1 2 1 2 1 2 1 2 1 2 1 2 1 2 1 2 1 2 1 2 1 \n",
      "PLAYER 1 WINS!\n",
      "P1 time: 78.85 seconds MOVES: 12 | P2 time0.01 seconds MOVES: 12\n",
      "Starting game <class 'bots.minimax.MiniMaxBot'>  vs.  <class 'bots.minimax.MiniMaxBot'> noise: 0.0\n",
      "2 1 2 1 2 1 2 1 2 1 2 1 2 1 2 1 2 1 2 1 2 1 2 1 2 1 2 1 2 \n",
      "PLAYER 2 WINS!\n",
      "P1 time: 66.10 seconds MOVES: 14 | P2 time67.78 seconds MOVES: 15\n",
      "Starting game <class 'bots.minimax.MiniMaxBot'>  vs.  <class 'bots.montecarlo.MonteCarloBot'> noise: 0.0\n",
      "1 2 1 2 1 2 1 2 1 2 1 2 1 2 1 2 1 \n",
      "PLAYER 1 WINS!\n",
      "P1 time: 36.61 seconds MOVES: 9 | P2 time6.51 seconds MOVES: 8\n",
      "Starting game <class 'bots.montecarlo.MonteCarloBot'>  vs.  <class 'bots.random.RandomBot'> noise: 0.0\n",
      "2 1 2 1 2 1 2 1 \n",
      "PLAYER 1 WINS!\n",
      "P1 time: 2.99 seconds MOVES: 4 | P2 time0.00 seconds MOVES: 4\n",
      "Starting game <class 'bots.montecarlo.MonteCarloBot'>  vs.  <class 'bots.onesteplook.OneStepLookAheadBot'> noise: 0.0\n",
      "2 1 2 1 2 1 2 1 2 1 2 1 \n",
      "PLAYER 1 WINS!\n",
      "P1 time: 4.92 seconds MOVES: 6 | P2 time0.00 seconds MOVES: 6\n",
      "Starting game <class 'bots.montecarlo.MonteCarloBot'>  vs.  <class 'bots.minimax.MiniMaxBot'> noise: 0.0\n",
      "2 1 2 1 2 1 2 1 2 1 2 1 2 1 2 1 2 1 2 1 2 1 2 1 2 1 2 1 2 1 2 1 2 1 2 \n",
      "PLAYER 2 WINS!\n",
      "P1 time: 15.44 seconds MOVES: 17 | P2 time36.76 seconds MOVES: 18\n",
      "Starting game <class 'bots.montecarlo.MonteCarloBot'>  vs.  <class 'bots.montecarlo.MonteCarloBot'> noise: 0.0\n",
      "1 2 1 2 1 2 1 2 1 2 1 2 1 2 1 2 1 \n",
      "PLAYER 1 WINS!\n",
      "P1 time: 8.68 seconds MOVES: 9 | P2 time7.65 seconds MOVES: 8\n"
     ]
    },
    {
     "data": {
      "image/png": "[encoded data removed]",
      "text/plain": [
       "<Figure size 432x288 with 1 Axes>"
      ]
     },
     "metadata": {
      "needs_background": "light"
     },
     "output_type": "display_data"
    },
    {
     "name": "stdout",
     "output_type": "stream",
     "text": [
      "[[1, -3, -3, -3], [3, 1, -3, -3], [3, 3, -3, 3], [3, 3, -3, -1]]\n",
      "Round 3\n",
      "Starting game <class 'bots.random.RandomBot'>  vs.  <class 'bots.random.RandomBot'> noise: 0.0\n",
      "2 1 2 1 2 1 2 1 2 1 2 1 2 1 2 1 2 \n",
      "PLAYER 2 WINS!\n",
      "P1 time: 0.00 seconds MOVES: 8 | P2 time0.00 seconds MOVES: 9\n",
      "Starting game <class 'bots.random.RandomBot'>  vs.  <class 'bots.onesteplook.OneStepLookAheadBot'> noise: 0.0\n",
      "1 2 1 2 1 2 1 2 1 2 \n",
      "PLAYER 2 WINS!\n",
      "P1 time: 0.00 seconds MOVES: 5 | P2 time0.00 seconds MOVES: 5\n",
      "Starting game <class 'bots.random.RandomBot'>  vs.  <class 'bots.minimax.MiniMaxBot'> noise: 0.0\n",
      "1 2 1 2 1 2 1 2 1 2 1 2 1 2 1 2 1 2 \n",
      "PLAYER 2 WINS!\n",
      "P1 time: 0.00 seconds MOVES: 9 | P2 time55.99 seconds MOVES: 9\n",
      "Starting game <class 'bots.random.RandomBot'>  vs.  <class 'bots.montecarlo.MonteCarloBot'> noise: 0.0\n",
      "1 2 1 2 1 2 1 2 1 2 1 2 1 2 1 2 \n",
      "PLAYER 2 WINS!\n",
      "P1 time: 0.00 seconds MOVES: 8 | P2 time7.48 seconds MOVES: 8\n",
      "Starting game <class 'bots.onesteplook.OneStepLookAheadBot'>  vs.  <class 'bots.random.RandomBot'> noise: 0.0\n",
      "1 2 1 2 1 2 1 2 1 2 1 2 1 2 1 2 1 2 1 2 1 2 1 2 1 2 1 2 1 2 1 \n",
      "PLAYER 1 WINS!\n",
      "P1 time: 0.01 seconds MOVES: 16 | P2 time0.00 seconds MOVES: 15\n",
      "Starting game <class 'bots.onesteplook.OneStepLookAheadBot'>  vs.  <class 'bots.onesteplook.OneStepLookAheadBot'> noise: 0.0\n",
      "2 1 2 1 2 1 2 1 2 1 2 1 2 1 2 1 2 1 2 1 2 1 2 1 2 1 2 1 2 1 2 1 2 1 2 1 2 1 2 1 2 1 \n",
      " IT'S A TIE!\n",
      "P1 time: 0.01 seconds MOVES: 21 | P2 time0.01 seconds MOVES: 21\n",
      "Starting game <class 'bots.onesteplook.OneStepLookAheadBot'>  vs.  <class 'bots.minimax.MiniMaxBot'> noise: 0.0\n",
      "2 1 2 1 2 1 2 1 2 \n",
      "PLAYER 2 WINS!\n",
      "P1 time: 0.00 seconds MOVES: 4 | P2 time35.75 seconds MOVES: 5\n",
      "Starting game <class 'bots.onesteplook.OneStepLookAheadBot'>  vs.  <class 'bots.montecarlo.MonteCarloBot'> noise: 0.0\n",
      "1 2 1 2 1 2 1 2 1 2 \n",
      "PLAYER 2 WINS!\n",
      "P1 time: 0.00 seconds MOVES: 5 | P2 time3.69 seconds MOVES: 5\n",
      "Starting game <class 'bots.minimax.MiniMaxBot'>  vs.  <class 'bots.random.RandomBot'> noise: 0.0\n",
      "1 2 1 2 1 2 1 \n",
      "PLAYER 1 WINS!\n",
      "P1 time: 36.90 seconds MOVES: 4 | P2 time0.00 seconds MOVES: 3\n",
      "Starting game <class 'bots.minimax.MiniMaxBot'>  vs.  <class 'bots.onesteplook.OneStepLookAheadBot'> noise: 0.0\n",
      "2 1 2 1 2 1 2 1 2 1 2 1 2 1 2 1 2 1 \n",
      "PLAYER 1 WINS!\n",
      "P1 time: 35.77 seconds MOVES: 9 | P2 time0.01 seconds MOVES: 9\n",
      "Starting game <class 'bots.minimax.MiniMaxBot'>  vs.  <class 'bots.minimax.MiniMaxBot'> noise: 0.0\n",
      "2 1 2 1 2 1 2 1 2 1 2 1 2 1 2 1 2 1 2 1 2 1 2 1 2 1 2 1 2 \n",
      "PLAYER 2 WINS!\n",
      "P1 time: 64.87 seconds MOVES: 14 | P2 time66.31 seconds MOVES: 15\n",
      "Starting game <class 'bots.minimax.MiniMaxBot'>  vs.  <class 'bots.montecarlo.MonteCarloBot'> noise: 0.0\n",
      "1 2 1 2 1 2 1 2 1 2 1 2 1 2 1 \n",
      "PLAYER 1 WINS!\n",
      "P1 time: 39.16 seconds MOVES: 8 | P2 time5.77 seconds MOVES: 7\n",
      "Starting game <class 'bots.montecarlo.MonteCarloBot'>  vs.  <class 'bots.random.RandomBot'> noise: 0.0\n",
      "2 1 2 1 2 1 2 1 2 1 2 1 \n",
      "PLAYER 1 WINS!\n",
      "P1 time: 5.25 seconds MOVES: 6 | P2 time0.00 seconds MOVES: 6\n",
      "Starting game <class 'bots.montecarlo.MonteCarloBot'>  vs.  <class 'bots.onesteplook.OneStepLookAheadBot'> noise: 0.0\n",
      "2 1 2 1 2 1 2 1 2 1 2 1 2 1 2 1 \n",
      "PLAYER 1 WINS!\n",
      "P1 time: 6.98 seconds MOVES: 8 | P2 time0.01 seconds MOVES: 8\n",
      "Starting game <class 'bots.montecarlo.MonteCarloBot'>  vs.  <class 'bots.minimax.MiniMaxBot'> noise: 0.0\n",
      "2 1 2 1 2 1 2 1 2 1 2 1 2 1 2 1 2 1 2 1 2 1 2 1 2 1 2 1 2 1 2 1 \n",
      "PLAYER 1 WINS!\n",
      "P1 time: 19.72 seconds MOVES: 16 | P2 time65.38 seconds MOVES: 16\n",
      "Starting game <class 'bots.montecarlo.MonteCarloBot'>  vs.  <class 'bots.montecarlo.MonteCarloBot'> noise: 0.0\n",
      "2 1 2 1 2 1 2 1 2 1 2 1 2 1 2 \n",
      "PLAYER 2 WINS!\n",
      "P1 time: 6.79 seconds MOVES: 7 | P2 time7.91 seconds MOVES: 8\n"
     ]
    },
    {
     "data": {
      "image/png": "[encoded data removed]",
      "text/plain": [
       "<Figure size 432x288 with 1 Axes>"
      ]
     },
     "metadata": {
      "needs_background": "light"
     },
     "output_type": "display_data"
    },
    {
     "name": "stdout",
     "output_type": "stream",
     "text": [
      "[[0, -4, -4, -4], [4, 2, -4, -4], [4, 4, -4, 4], [4, 4, -2, -2]]\n",
      "Round 4\n",
      "Starting game <class 'bots.random.RandomBot'>  vs.  <class 'bots.random.RandomBot'> noise: 0.0\n",
      "1 2 1 2 1 2 1 2 1 2 1 2 1 2 1 2 1 2 1 2 1 2 1 2 1 2 1 \n",
      "PLAYER 1 WINS!\n",
      "P1 time: 0.00 seconds MOVES: 14 | P2 time0.00 seconds MOVES: 13\n",
      "Starting game <class 'bots.random.RandomBot'>  vs.  <class 'bots.onesteplook.OneStepLookAheadBot'> noise: 0.0\n",
      "2 1 2 1 2 1 2 \n",
      "PLAYER 2 WINS!\n",
      "P1 time: 0.00 seconds MOVES: 3 | P2 time0.00 seconds MOVES: 4\n",
      "Starting game <class 'bots.random.RandomBot'>  vs.  <class 'bots.minimax.MiniMaxBot'> noise: 0.0\n",
      "1 2 1 2 1 2 1 2 1 2 1 2 \n",
      "PLAYER 2 WINS!\n",
      "P1 time: 0.00 seconds MOVES: 6 | P2 time23.18 seconds MOVES: 6\n",
      "Starting game <class 'bots.random.RandomBot'>  vs.  <class 'bots.montecarlo.MonteCarloBot'> noise: 0.0\n",
      "1 2 1 2 1 2 1 2 1 2 \n",
      "PLAYER 2 WINS!\n",
      "P1 time: 0.00 seconds MOVES: 5 | P2 time4.25 seconds MOVES: 5\n",
      "Starting game <class 'bots.onesteplook.OneStepLookAheadBot'>  vs.  <class 'bots.random.RandomBot'> noise: 0.0\n",
      "1 2 1 2 1 2 1 2 1 \n",
      "PLAYER 1 WINS!\n",
      "P1 time: 0.00 seconds MOVES: 5 | P2 time0.00 seconds MOVES: 4\n",
      "Starting game <class 'bots.onesteplook.OneStepLookAheadBot'>  vs.  <class 'bots.onesteplook.OneStepLookAheadBot'> noise: 0.0\n",
      "2 1 2 1 2 1 2 1 2 1 2 1 2 1 2 1 2 1 2 1 2 1 2 1 \n",
      "PLAYER 1 WINS!\n",
      "P1 time: 0.01 seconds MOVES: 12 | P2 time0.01 seconds MOVES: 12\n",
      "Starting game <class 'bots.onesteplook.OneStepLookAheadBot'>  vs.  <class 'bots.minimax.MiniMaxBot'> noise: 0.0\n",
      "2 1 2 1 2 1 2 1 2 1 2 1 2 1 2 1 2 1 2 1 2 1 2 \n",
      "PLAYER 2 WINS!\n",
      "P1 time: 0.01 seconds MOVES: 11 | P2 time46.26 seconds MOVES: 12\n",
      "Starting game <class 'bots.onesteplook.OneStepLookAheadBot'>  vs.  <class 'bots.montecarlo.MonteCarloBot'> noise: 0.0\n",
      "1 2 1 2 1 2 1 2 \n",
      "PLAYER 2 WINS!\n",
      "P1 time: 0.00 seconds MOVES: 4 | P2 time2.98 seconds MOVES: 4\n",
      "Starting game <class 'bots.minimax.MiniMaxBot'>  vs.  <class 'bots.random.RandomBot'> noise: 0.0\n",
      "1 2 1 2 1 2 1 2 1 2 1 2 1 2 1 \n",
      "PLAYER 1 WINS!\n",
      "P1 time: 37.61 seconds MOVES: 8 | P2 time0.00 seconds MOVES: 7\n",
      "Starting game <class 'bots.minimax.MiniMaxBot'>  vs.  <class 'bots.onesteplook.OneStepLookAheadBot'> noise: 0.0\n",
      "2 1 2 1 2 1 2 1 2 1 2 1 2 1 2 1 2 1 2 1 2 1 2 1 2 1 \n",
      "PLAYER 1 WINS!\n",
      "P1 time: 43.69 seconds MOVES: 13 | P2 time0.01 seconds MOVES: 13\n",
      "Starting game <class 'bots.minimax.MiniMaxBot'>  vs.  <class 'bots.minimax.MiniMaxBot'> noise: 0.0\n",
      "2 1 2 1 2 1 2 1 2 1 2 1 2 1 2 1 2 1 2 1 2 1 2 1 2 1 2 1 2 \n",
      "PLAYER 2 WINS!\n",
      "P1 time: 64.56 seconds MOVES: 14 | P2 time66.41 seconds MOVES: 15\n",
      "Starting game <class 'bots.minimax.MiniMaxBot'>  vs.  <class 'bots.montecarlo.MonteCarloBot'> noise: 0.0\n",
      "1 2 1 2 1 2 1 2 1 2 1 2 1 \n",
      "PLAYER 1 WINS!\n",
      "P1 time: 56.33 seconds MOVES: 7 | P2 time5.54 seconds MOVES: 6\n",
      "Starting game <class 'bots.montecarlo.MonteCarloBot'>  vs.  <class 'bots.random.RandomBot'> noise: 0.0\n",
      "2 1 2 1 2 1 2 1 \n",
      "PLAYER 1 WINS!\n",
      "P1 time: 2.72 seconds MOVES: 4 | P2 time0.00 seconds MOVES: 4\n",
      "Starting game <class 'bots.montecarlo.MonteCarloBot'>  vs.  <class 'bots.onesteplook.OneStepLookAheadBot'> noise: 0.0\n",
      "2 1 2 1 2 1 2 1 \n",
      "PLAYER 1 WINS!\n",
      "P1 time: 2.65 seconds MOVES: 4 | P2 time0.00 seconds MOVES: 4\n",
      "Starting game <class 'bots.montecarlo.MonteCarloBot'>  vs.  <class 'bots.minimax.MiniMaxBot'> noise: 0.0\n",
      "2 1 2 1 2 1 2 1 2 1 2 1 2 1 2 1 2 1 2 1 2 1 2 1 2 1 2 1 2 1 2 1 2 \n",
      "PLAYER 2 WINS!\n",
      "P1 time: 17.82 seconds MOVES: 16 | P2 time41.80 seconds MOVES: 17\n",
      "Starting game <class 'bots.montecarlo.MonteCarloBot'>  vs.  <class 'bots.montecarlo.MonteCarloBot'> noise: 0.0\n",
      "1 2 1 2 1 2 1 2 1 2 1 2 1 2 1 2 1 2 \n",
      "PLAYER 2 WINS!\n",
      "P1 time: 9.32 seconds MOVES: 9 | P2 time8.94 seconds MOVES: 9\n"
     ]
    },
    {
     "data": {
      "image/png": "[encoded data removed]",
      "text/plain": [
       "<Figure size 432x288 with 1 Axes>"
      ]
     },
     "metadata": {
      "needs_background": "light"
     },
     "output_type": "display_data"
    },
    {
     "name": "stdout",
     "output_type": "stream",
     "text": [
      "[[1, -5, -5, -5], [5, 3, -5, -5], [5, 5, -5, 5], [5, 5, -3, -3]]\n"
     ]
    }
   ],
   "source": [
    "scores = [[0 for i in range(len(bot_map))] for j in range(len(bot_map))]\n",
    "for k in range(REPETITIONS):\n",
    "    print(f\"Round {k}\")\n",
    "    for i,p1class in enumerate(bot_map.values()):\n",
    "        for j,p2class in enumerate(bot_map.values()):\n",
    "            p1 = p1class(Board.PLAYER1_PIECE)\n",
    "            p2 = p2class(Board.PLAYER2_PIECE)\n",
    "            winner = connect4(p1,p2,False)\n",
    "            if winner==1:\n",
    "                scores[i][j] += 1\n",
    "            elif winner==2:\n",
    "                scores[i][j] -= 1\n",
    "    scores_nonoise = np.asarray(scores)/(k+1)\n",
    "    plt.imshow(scores_nonoise)\n",
    "    plt.show()\n",
    "    print(scores)"
   ]
  },
  {
   "cell_type": "code",
   "execution_count": 8,
   "id": "a3e4dde0-b0e7-4927-a7fc-ef26cc9cce99",
   "metadata": {},
   "outputs": [
    {
     "data": {
      "text/plain": [
       "[[1, -5, -5, -5], [5, 3, -5, -5], [5, 5, -5, 5], [5, 5, -3, -3]]"
      ]
     },
     "execution_count": 8,
     "metadata": {},
     "output_type": "execute_result"
    }
   ],
   "source": [
    "scores"
   ]
  },
  {
   "cell_type": "code",
   "execution_count": 9,
   "id": "5d941ed8-0954-45ed-9e9b-400513c59936",
   "metadata": {},
   "outputs": [],
   "source": [
    "import copy"
   ]
  },
  {
   "cell_type": "code",
   "execution_count": 10,
   "id": "c8441577-d3b4-4ac0-80e7-6d80af4d9598",
   "metadata": {},
   "outputs": [
    {
     "data": {
      "image/png": "[encoded data removed]",
      "text/plain": [
       "<Figure size 432x288 with 1 Axes>"
      ]
     },
     "metadata": {
      "needs_background": "light"
     },
     "output_type": "display_data"
    }
   ],
   "source": [
    "scores_nonoise = np.asarray(scores)/REPETITIONS\n",
    "plt.imshow(scores_nonoise)\n",
    "plt.show()"
   ]
  },
  {
   "cell_type": "markdown",
   "id": "6e054f17-9eb4-48df-bc37-670ab1032232",
   "metadata": {},
   "source": [
    "## Now with noise"
   ]
  },
  {
   "cell_type": "code",
   "execution_count": 11,
   "id": "54b4bac9-0a87-45d5-bdf5-81440aacf952",
   "metadata": {},
   "outputs": [
    {
     "name": "stdout",
     "output_type": "stream",
     "text": [
      "Round 0\n",
      "Starting game <class 'bots.random.RandomBot'>  vs.  <class 'bots.random.RandomBot'> noise: 0.4\n",
      "1 *2 1 *2 *1 *2 1 *2 1 2 1 2 *1 2 *1 *2 *1 2 1 2 *1 \n",
      "PLAYER 1 WINS!\n",
      "P1 time: 0.00 seconds MOVES: 11 | P2 time0.00 seconds MOVES: 10\n",
      "Starting game <class 'bots.random.RandomBot'>  vs.  <class 'bots.onesteplook.OneStepLookAheadBot'> noise: 0.4\n",
      "2 *1 2 1 2 *1 *2 1 *2 *1 *2 \n",
      "PLAYER 2 WINS!\n",
      "P1 time: 0.00 seconds MOVES: 5 | P2 time0.00 seconds MOVES: 6\n",
      "Starting game <class 'bots.random.RandomBot'>  vs.  <class 'bots.minimax.MiniMaxBot'> noise: 0.4\n",
      "1 *2 *1 2 1 2 1 2 1 2 1 2 \n",
      "PLAYER 2 WINS!\n",
      "P1 time: 0.00 seconds MOVES: 6 | P2 time45.29 seconds MOVES: 6\n",
      "Starting game <class 'bots.random.RandomBot'>  vs.  <class 'bots.montecarlo.MonteCarloBot'> noise: 0.4\n",
      "*1 2 *1 2 1 2 1 2 1 2 1 2 1 *2 1 2 1 2 \n",
      "PLAYER 2 WINS!\n",
      "P1 time: 0.00 seconds MOVES: 9 | P2 time7.85 seconds MOVES: 9\n",
      "Starting game <class 'bots.onesteplook.OneStepLookAheadBot'>  vs.  <class 'bots.random.RandomBot'> noise: 0.4\n",
      "1 2 *1 *2 *1 *2 1 \n",
      "PLAYER 1 WINS!\n",
      "P1 time: 0.00 seconds MOVES: 4 | P2 time0.00 seconds MOVES: 3\n",
      "Starting game <class 'bots.onesteplook.OneStepLookAheadBot'>  vs.  <class 'bots.onesteplook.OneStepLookAheadBot'> noise: 0.4\n",
      "2 *1 *2 *1 2 1 2 *1 *2 1 *2 1 *2 *1 2 \n",
      "PLAYER 2 WINS!\n",
      "P1 time: 0.00 seconds MOVES: 7 | P2 time0.01 seconds MOVES: 8\n",
      "Starting game <class 'bots.onesteplook.OneStepLookAheadBot'>  vs.  <class 'bots.minimax.MiniMaxBot'> noise: 0.4\n",
      "*1 2 1 *2 1 2 1 2 1 *2 1 *2 *1 2 1 2 1 2 *1 *2 1 *2 1 2 1 2 \n",
      "PLAYER 2 WINS!\n",
      "P1 time: 0.01 seconds MOVES: 13 | P2 time45.54 seconds MOVES: 13\n",
      "Starting game <class 'bots.onesteplook.OneStepLookAheadBot'>  vs.  <class 'bots.montecarlo.MonteCarloBot'> noise: 0.4\n",
      "1 2 *1 *2 1 2 1 *2 1 2 1 2 1 2 \n",
      "PLAYER 2 WINS!\n",
      "P1 time: 0.00 seconds MOVES: 7 | P2 time5.01 seconds MOVES: 7\n",
      "Starting game <class 'bots.minimax.MiniMaxBot'>  vs.  <class 'bots.random.RandomBot'> noise: 0.4\n",
      "1 *2 *1 2 1 2 1 2 *1 \n",
      "PLAYER 1 WINS!\n",
      "P1 time: 41.71 seconds MOVES: 5 | P2 time0.00 seconds MOVES: 4\n",
      "Starting game <class 'bots.minimax.MiniMaxBot'>  vs.  <class 'bots.onesteplook.OneStepLookAheadBot'> noise: 0.4\n",
      "*2 1 2 *1 2 1 2 *1 2 *1 *2 1 2 1 *2 1 2 *1 2 1 2 \n",
      "PLAYER 2 WINS!\n",
      "P1 time: 69.37 seconds MOVES: 10 | P2 time0.01 seconds MOVES: 11\n",
      "Starting game <class 'bots.minimax.MiniMaxBot'>  vs.  <class 'bots.minimax.MiniMaxBot'> noise: 0.4\n",
      "1 *2 *1 2 *1 2 1 2 *1 *2 1 *2 1 2 *1 *2 1 2 1 2 *1 *2 1 *2 1 2 1 \n",
      "PLAYER 1 WINS!\n",
      "P1 time: 42.63 seconds MOVES: 14 | P2 time32.69 seconds MOVES: 13\n",
      "Starting game <class 'bots.minimax.MiniMaxBot'>  vs.  <class 'bots.montecarlo.MonteCarloBot'> noise: 0.4\n",
      "2 1 2 1 2 1 *2 1 2 *1 2 1 *2 1 2 *1 2 *1 *2 1 *2 1 2 1 2 *1 2 \n",
      "PLAYER 2 WINS!\n",
      "P1 time: 86.69 seconds MOVES: 13 | P2 time9.65 seconds MOVES: 14\n",
      "Starting game <class 'bots.montecarlo.MonteCarloBot'>  vs.  <class 'bots.random.RandomBot'> noise: 0.4\n",
      "1 *2 1 2 *1 2 1 2 *1 2 1 2 1 \n",
      "PLAYER 1 WINS!\n",
      "P1 time: 4.97 seconds MOVES: 7 | P2 time0.00 seconds MOVES: 6\n",
      "Starting game <class 'bots.montecarlo.MonteCarloBot'>  vs.  <class 'bots.onesteplook.OneStepLookAheadBot'> noise: 0.4\n",
      "2 *1 *2 *1 *2 *1 *2 1 *2 1 *2 1 2 *1 2 *1 *2 1 *2 *1 2 *1 *2 1 *2 1 \n",
      "PLAYER 1 WINS!\n",
      "P1 time: 8.35 seconds MOVES: 13 | P2 time0.01 seconds MOVES: 13\n",
      "Starting game <class 'bots.montecarlo.MonteCarloBot'>  vs.  <class 'bots.minimax.MiniMaxBot'> noise: 0.4\n",
      "2 1 *2 *1 *2 *1 2 \n",
      "PLAYER 2 WINS!\n",
      "P1 time: 2.37 seconds MOVES: 3 | P2 time29.48 seconds MOVES: 4\n",
      "Starting game <class 'bots.montecarlo.MonteCarloBot'>  vs.  <class 'bots.montecarlo.MonteCarloBot'> noise: 0.4\n",
      "1 *2 *1 2 *1 *2 1 2 *1 2 *1 2 *1 2 \n",
      "PLAYER 2 WINS!\n",
      "P1 time: 5.13 seconds MOVES: 7 | P2 time5.16 seconds MOVES: 7\n"
     ]
    },
    {
     "data": {
      "image/png": "[encoded data removed]",
      "text/plain": [
       "<Figure size 432x288 with 1 Axes>"
      ]
     },
     "metadata": {
      "needs_background": "light"
     },
     "output_type": "display_data"
    },
    {
     "name": "stdout",
     "output_type": "stream",
     "text": [
      "[[1, -1, -1, -1], [1, -1, -1, -1], [1, -1, 1, -1], [1, 1, -1, -1]]\n",
      "Round 1\n",
      "Starting game <class 'bots.random.RandomBot'>  vs.  <class 'bots.random.RandomBot'> noise: 0.4\n",
      "1 *2 1 2 1 *2 *1 2 1 2 *1 *2 1 2 1 2 1 2 *1 *2 *1 *2 *1 \n",
      "PLAYER 1 WINS!\n",
      "P1 time: 0.00 seconds MOVES: 12 | P2 time0.00 seconds MOVES: 11\n",
      "Starting game <class 'bots.random.RandomBot'>  vs.  <class 'bots.onesteplook.OneStepLookAheadBot'> noise: 0.4\n",
      "*2 1 *2 *1 *2 1 2 1 2 1 2 *1 2 1 2 1 *2 *1 *2 *1 *2 *1 *2 1 2 \n",
      "PLAYER 2 WINS!\n",
      "P1 time: 0.00 seconds MOVES: 12 | P2 time0.01 seconds MOVES: 13\n",
      "Starting game <class 'bots.random.RandomBot'>  vs.  <class 'bots.minimax.MiniMaxBot'> noise: 0.4\n",
      "1 *2 1 2 *1 *2 *1 2 1 2 1 2 *1 2 *1 *2 *1 *2 \n",
      "PLAYER 2 WINS!\n",
      "P1 time: 0.00 seconds MOVES: 9 | P2 time35.45 seconds MOVES: 9\n",
      "Starting game <class 'bots.random.RandomBot'>  vs.  <class 'bots.montecarlo.MonteCarloBot'> noise: 0.4\n",
      "*1 *2 1 2 1 2 *1 2 \n",
      "PLAYER 2 WINS!\n",
      "P1 time: 0.00 seconds MOVES: 4 | P2 time2.99 seconds MOVES: 4\n",
      "Starting game <class 'bots.onesteplook.OneStepLookAheadBot'>  vs.  <class 'bots.random.RandomBot'> noise: 0.4\n",
      "1 2 1 *2 *1 2 *1 2 *1 *2 *1 *2 1 *2 *1 2 1 *2 *1 *2 1 2 *1 2 *1 *2 \n",
      "PLAYER 2 WINS!\n",
      "P1 time: 0.01 seconds MOVES: 13 | P2 time0.00 seconds MOVES: 13\n",
      "Starting game <class 'bots.onesteplook.OneStepLookAheadBot'>  vs.  <class 'bots.onesteplook.OneStepLookAheadBot'> noise: 0.4\n",
      "1 *2 *1 2 1 *2 *1 2 1 2 1 2 *1 2 1 2 1 *2 *1 2 1 2 1 *2 *1 *2 1 \n",
      "PLAYER 1 WINS!\n",
      "P1 time: 0.01 seconds MOVES: 14 | P2 time0.01 seconds MOVES: 13\n",
      "Starting game <class 'bots.onesteplook.OneStepLookAheadBot'>  vs.  <class 'bots.minimax.MiniMaxBot'> noise: 0.4\n",
      "2 1 2 *1 2 1 2 1 2 \n",
      "PLAYER 2 WINS!\n",
      "P1 time: 0.00 seconds MOVES: 4 | P2 time26.97 seconds MOVES: 5\n",
      "Starting game <class 'bots.onesteplook.OneStepLookAheadBot'>  vs.  <class 'bots.montecarlo.MonteCarloBot'> noise: 0.4\n",
      "*1 2 1 *2 1 *2 1 *2 1 2 *1 2 1 2 1 2 1 2 1 2 *1 2 \n",
      "PLAYER 2 WINS!\n",
      "P1 time: 0.01 seconds MOVES: 11 | P2 time8.10 seconds MOVES: 11\n",
      "Starting game <class 'bots.minimax.MiniMaxBot'>  vs.  <class 'bots.random.RandomBot'> noise: 0.4\n",
      "1 *2 1 *2 1 2 *1 *2 *1 2 *1 2 1 2 *1 2 1 *2 1 *2 1 2 *1 \n",
      "PLAYER 1 WINS!\n",
      "P1 time: 64.85 seconds MOVES: 12 | P2 time0.00 seconds MOVES: 11\n",
      "Starting game <class 'bots.minimax.MiniMaxBot'>  vs.  <class 'bots.onesteplook.OneStepLookAheadBot'> noise: 0.4\n",
      "2 *1 2 1 2 *1 2 1 2 1 *2 1 2 1 *2 1 2 *1 *2 1 2 1 \n",
      "PLAYER 1 WINS!\n",
      "P1 time: 41.21 seconds MOVES: 11 | P2 time0.01 seconds MOVES: 11\n",
      "Starting game <class 'bots.minimax.MiniMaxBot'>  vs.  <class 'bots.minimax.MiniMaxBot'> noise: 0.4\n",
      "*2 1 *2 1 *2 1 *2 *1 *2 1 \n",
      "PLAYER 1 WINS!\n",
      "P1 time: 27.86 seconds MOVES: 5 | P2 time34.88 seconds MOVES: 5\n",
      "Starting game <class 'bots.minimax.MiniMaxBot'>  vs.  <class 'bots.montecarlo.MonteCarloBot'> noise: 0.4\n",
      "2 1 2 *1 *2 1 2 1 2 *1 2 *1 *2 *1 *2 1 2 1 2 1 2 *1 2 1 2 1 *2 *1 2 \n",
      "PLAYER 2 WINS!\n",
      "P1 time: 93.16 seconds MOVES: 14 | P2 time10.93 seconds MOVES: 15\n",
      "Starting game <class 'bots.montecarlo.MonteCarloBot'>  vs.  <class 'bots.random.RandomBot'> noise: 0.4\n",
      "1 2 *1 2 *1 *2 *1 *2 *1 *2 1 2 1 *2 *1 2 1 \n",
      "PLAYER 1 WINS!\n",
      "P1 time: 4.83 seconds MOVES: 9 | P2 time0.00 seconds MOVES: 8\n",
      "Starting game <class 'bots.montecarlo.MonteCarloBot'>  vs.  <class 'bots.onesteplook.OneStepLookAheadBot'> noise: 0.4\n",
      "2 *1 2 *1 *2 1 *2 1 *2 1 *2 1 \n",
      "PLAYER 1 WINS!\n",
      "P1 time: 4.35 seconds MOVES: 6 | P2 time0.00 seconds MOVES: 6\n",
      "Starting game <class 'bots.montecarlo.MonteCarloBot'>  vs.  <class 'bots.minimax.MiniMaxBot'> noise: 0.4\n",
      "*2 1 2 1 *2 *1 *2 *1 2 1 2 \n",
      "PLAYER 2 WINS!\n",
      "P1 time: 3.58 seconds MOVES: 5 | P2 time67.92 seconds MOVES: 6\n",
      "Starting game <class 'bots.montecarlo.MonteCarloBot'>  vs.  <class 'bots.montecarlo.MonteCarloBot'> noise: 0.4\n",
      "1 2 *1 2 1 2 1 \n",
      "PLAYER 1 WINS!\n",
      "P1 time: 2.73 seconds MOVES: 4 | P2 time2.26 seconds MOVES: 3\n"
     ]
    },
    {
     "data": {
      "image/png": "[encoded data removed]",
      "text/plain": [
       "<Figure size 432x288 with 1 Axes>"
      ]
     },
     "metadata": {
      "needs_background": "light"
     },
     "output_type": "display_data"
    },
    {
     "name": "stdout",
     "output_type": "stream",
     "text": [
      "[[2, -2, -2, -2], [0, 0, -2, -2], [2, 0, 2, -2], [2, 2, -2, 0]]\n",
      "Round 2\n",
      "Starting game <class 'bots.random.RandomBot'>  vs.  <class 'bots.random.RandomBot'> noise: 0.4\n",
      "*2 1 2 1 2 1 *2 1 2 1 *2 1 2 *1 *2 *1 2 *1 2 1 \n",
      "PLAYER 1 WINS!\n",
      "P1 time: 0.00 seconds MOVES: 10 | P2 time0.00 seconds MOVES: 10\n",
      "Starting game <class 'bots.random.RandomBot'>  vs.  <class 'bots.onesteplook.OneStepLookAheadBot'> noise: 0.4\n",
      "2 1 2 *1 *2 *1 2 *1 *2 1 2 *1 *2 *1 2 1 2 1 2 1 *2 1 2 1 2 \n",
      "PLAYER 2 WINS!\n",
      "P1 time: 0.00 seconds MOVES: 12 | P2 time0.01 seconds MOVES: 13\n",
      "Starting game <class 'bots.random.RandomBot'>  vs.  <class 'bots.minimax.MiniMaxBot'> noise: 0.4\n",
      "1 2 1 2 *1 2 *1 2 \n",
      "PLAYER 2 WINS!\n",
      "P1 time: 0.00 seconds MOVES: 4 | P2 time34.61 seconds MOVES: 4\n",
      "Starting game <class 'bots.random.RandomBot'>  vs.  <class 'bots.montecarlo.MonteCarloBot'> noise: 0.4\n",
      "*1 *2 1 *2 1 2 1 *2 *1 2 \n",
      "PLAYER 2 WINS!\n",
      "P1 time: 0.00 seconds MOVES: 5 | P2 time3.01 seconds MOVES: 5\n",
      "Starting game <class 'bots.onesteplook.OneStepLookAheadBot'>  vs.  <class 'bots.random.RandomBot'> noise: 0.4\n",
      "*1 *2 1 *2 1 2 1 *2 *1 *2 1 *2 1 2 1 \n",
      "PLAYER 1 WINS!\n",
      "P1 time: 0.01 seconds MOVES: 8 | P2 time0.00 seconds MOVES: 7\n",
      "Starting game <class 'bots.onesteplook.OneStepLookAheadBot'>  vs.  <class 'bots.onesteplook.OneStepLookAheadBot'> noise: 0.4\n",
      "*2 *1 *2 1 2 1 2 *1 *2 1 2 1 2 *1 *2 1 *2 1 *2 *1 2 *1 *2 *1 2 \n",
      "PLAYER 2 WINS!\n",
      "P1 time: 0.01 seconds MOVES: 12 | P2 time0.01 seconds MOVES: 13\n",
      "Starting game <class 'bots.onesteplook.OneStepLookAheadBot'>  vs.  <class 'bots.minimax.MiniMaxBot'> noise: 0.4\n",
      "*1 *2 *1 2 1 2 1 *2 *1 2 \n",
      "PLAYER 2 WINS!\n",
      "P1 time: 0.00 seconds MOVES: 5 | P2 time31.48 seconds MOVES: 5\n",
      "Starting game <class 'bots.onesteplook.OneStepLookAheadBot'>  vs.  <class 'bots.montecarlo.MonteCarloBot'> noise: 0.4\n",
      "1 2 *1 2 *1 *2 *1 *2 1 2 1 *2 1 2 1 2 *1 2 1 \n",
      "PLAYER 1 WINS!\n",
      "P1 time: 0.01 seconds MOVES: 10 | P2 time6.79 seconds MOVES: 9\n",
      "Starting game <class 'bots.minimax.MiniMaxBot'>  vs.  <class 'bots.random.RandomBot'> noise: 0.4\n",
      "2 *1 2 1 2 *1 2 *1 *2 *1 2 1 *2 *1 *2 1 *2 1 *2 *1 2 *1 2 1 \n",
      "PLAYER 1 WINS!\n",
      "P1 time: 77.53 seconds MOVES: 12 | P2 time0.00 seconds MOVES: 12\n",
      "Starting game <class 'bots.minimax.MiniMaxBot'>  vs.  <class 'bots.onesteplook.OneStepLookAheadBot'> noise: 0.4\n",
      "2 1 *2 *1 2 *1 *2 1 *2 *1 2 1 *2 1 2 *1 2 \n",
      "PLAYER 2 WINS!\n",
      "P1 time: 58.30 seconds MOVES: 8 | P2 time0.01 seconds MOVES: 9\n",
      "Starting game <class 'bots.minimax.MiniMaxBot'>  vs.  <class 'bots.minimax.MiniMaxBot'> noise: 0.4\n",
      "1 2 1 *2 *1 2 *1 2 1 *2 *1 *2 1 *2 *1 2 *1 *2 *1 *2 1 \n",
      "PLAYER 1 WINS!\n",
      "P1 time: 61.60 seconds MOVES: 11 | P2 time40.93 seconds MOVES: 10\n",
      "Starting game <class 'bots.minimax.MiniMaxBot'>  vs.  <class 'bots.montecarlo.MonteCarloBot'> noise: 0.4\n",
      "2 1 2 1 2 *1 2 *1 2 1 2 1 2 *1 2 *1 2 *1 *2 *1 *2 *1 2 *1 *2 *1 2 1 2 1 *2 *1 2 \n",
      "PLAYER 2 WINS!\n",
      "P1 time: 137.20 seconds MOVES: 16 | P2 time13.32 seconds MOVES: 17\n",
      "Starting game <class 'bots.montecarlo.MonteCarloBot'>  vs.  <class 'bots.random.RandomBot'> noise: 0.4\n",
      "1 2 *1 *2 *1 2 1 \n",
      "PLAYER 1 WINS!\n",
      "P1 time: 2.72 seconds MOVES: 4 | P2 time0.00 seconds MOVES: 3\n",
      "Starting game <class 'bots.montecarlo.MonteCarloBot'>  vs.  <class 'bots.onesteplook.OneStepLookAheadBot'> noise: 0.4\n",
      "2 *1 2 1 *2 1 2 1 2 1 *2 *1 2 1 2 1 2 1 2 \n",
      "PLAYER 2 WINS!\n",
      "P1 time: 6.28 seconds MOVES: 9 | P2 time0.01 seconds MOVES: 10\n",
      "Starting game <class 'bots.montecarlo.MonteCarloBot'>  vs.  <class 'bots.minimax.MiniMaxBot'> noise: 0.4\n",
      "1 *2 1 *2 1 *2 *1 2 *1 *2 1 \n",
      "PLAYER 1 WINS!\n",
      "P1 time: 3.55 seconds MOVES: 6 | P2 time48.98 seconds MOVES: 5\n",
      "Starting game <class 'bots.montecarlo.MonteCarloBot'>  vs.  <class 'bots.montecarlo.MonteCarloBot'> noise: 0.4\n",
      "*2 *1 *2 *1 2 *1 2 1 *2 1 *2 1 2 *1 *2 1 2 1 \n",
      "PLAYER 1 WINS!\n",
      "P1 time: 6.19 seconds MOVES: 9 | P2 time6.25 seconds MOVES: 9\n"
     ]
    },
    {
     "data": {
      "image/png": "[encoded data removed]",
      "text/plain": [
       "<Figure size 432x288 with 1 Axes>"
      ]
     },
     "metadata": {
      "needs_background": "light"
     },
     "output_type": "display_data"
    },
    {
     "name": "stdout",
     "output_type": "stream",
     "text": [
      "[[3, -3, -3, -3], [1, -1, -3, -1], [3, -1, 3, -3], [3, 1, -1, 1]]\n",
      "Round 3\n",
      "Starting game <class 'bots.random.RandomBot'>  vs.  <class 'bots.random.RandomBot'> noise: 0.4\n",
      "2 1 *2 1 2 1 *2 *1 2 1 2 1 2 1 *2 1 2 1 *2 \n",
      "PLAYER 2 WINS!\n",
      "P1 time: 0.00 seconds MOVES: 9 | P2 time0.00 seconds MOVES: 10\n",
      "Starting game <class 'bots.random.RandomBot'>  vs.  <class 'bots.onesteplook.OneStepLookAheadBot'> noise: 0.4\n",
      "1 2 1 2 *1 *2 *1 2 1 *2 *1 2 1 2 1 *2 1 2 \n",
      "PLAYER 2 WINS!\n",
      "P1 time: 0.00 seconds MOVES: 9 | P2 time0.01 seconds MOVES: 9\n",
      "Starting game <class 'bots.random.RandomBot'>  vs.  <class 'bots.minimax.MiniMaxBot'> noise: 0.4\n",
      "*1 2 *1 *2 *1 *2 1 2 *1 *2 *1 *2 1 2 1 *2 1 2 1 2 \n",
      "PLAYER 2 WINS!\n",
      "P1 time: 0.00 seconds MOVES: 10 | P2 time32.37 seconds MOVES: 10\n",
      "Starting game <class 'bots.random.RandomBot'>  vs.  <class 'bots.montecarlo.MonteCarloBot'> noise: 0.4\n",
      "*1 2 1 2 *1 2 *1 2 1 2 1 *2 1 *2 1 2 *1 2 1 2 1 *2 1 *2 1 *2 \n",
      "PLAYER 2 WINS!\n",
      "P1 time: 0.00 seconds MOVES: 13 | P2 time9.41 seconds MOVES: 13\n",
      "Starting game <class 'bots.onesteplook.OneStepLookAheadBot'>  vs.  <class 'bots.random.RandomBot'> noise: 0.4\n",
      "*1 *2 *1 2 1 2 *1 *2 *1 *2 *1 *2 *1 *2 \n",
      "PLAYER 2 WINS!\n",
      "P1 time: 0.00 seconds MOVES: 7 | P2 time0.00 seconds MOVES: 7\n",
      "Starting game <class 'bots.onesteplook.OneStepLookAheadBot'>  vs.  <class 'bots.onesteplook.OneStepLookAheadBot'> noise: 0.4\n",
      "1 *2 1 2 *1 *2 *1 2 1 2 *1 2 1 *2 *1 *2 1 \n",
      "PLAYER 1 WINS!\n",
      "P1 time: 0.01 seconds MOVES: 9 | P2 time0.01 seconds MOVES: 8\n",
      "Starting game <class 'bots.onesteplook.OneStepLookAheadBot'>  vs.  <class 'bots.minimax.MiniMaxBot'> noise: 0.4\n",
      "*2 1 2 *1 *2 1 2 1 2 1 2 *1 *2 1 \n",
      "PLAYER 1 WINS!\n",
      "P1 time: 0.00 seconds MOVES: 7 | P2 time58.16 seconds MOVES: 7\n",
      "Starting game <class 'bots.onesteplook.OneStepLookAheadBot'>  vs.  <class 'bots.montecarlo.MonteCarloBot'> noise: 0.4\n",
      "2 1 *2 1 2 *1 2 1 2 *1 2 *1 2 \n",
      "PLAYER 2 WINS!\n",
      "P1 time: 0.00 seconds MOVES: 6 | P2 time6.00 seconds MOVES: 7\n",
      "Starting game <class 'bots.minimax.MiniMaxBot'>  vs.  <class 'bots.random.RandomBot'> noise: 0.4\n",
      "*1 2 1 2 1 2 1 *2 1 2 1 2 1 \n",
      "PLAYER 1 WINS!\n",
      "P1 time: 43.02 seconds MOVES: 7 | P2 time0.00 seconds MOVES: 6\n",
      "Starting game <class 'bots.minimax.MiniMaxBot'>  vs.  <class 'bots.onesteplook.OneStepLookAheadBot'> noise: 0.4\n",
      "2 1 2 *1 *2 1 *2 1 \n",
      "PLAYER 1 WINS!\n",
      "P1 time: 22.37 seconds MOVES: 4 | P2 time0.00 seconds MOVES: 4\n",
      "Starting game <class 'bots.minimax.MiniMaxBot'>  vs.  <class 'bots.minimax.MiniMaxBot'> noise: 0.4\n",
      "*2 1 2 1 2 1 2 *1 *2 *1 2 1 2 *1 *2 *1 2 \n",
      "PLAYER 2 WINS!\n",
      "P1 time: 68.46 seconds MOVES: 8 | P2 time89.54 seconds MOVES: 9\n",
      "Starting game <class 'bots.minimax.MiniMaxBot'>  vs.  <class 'bots.montecarlo.MonteCarloBot'> noise: 0.4\n",
      "*1 *2 *1 2 1 *2 1 2 *1 *2 1 *2 1 2 *1 2 *1 2 \n",
      "PLAYER 2 WINS!\n",
      "P1 time: 75.82 seconds MOVES: 9 | P2 time6.61 seconds MOVES: 9\n",
      "Starting game <class 'bots.montecarlo.MonteCarloBot'>  vs.  <class 'bots.random.RandomBot'> noise: 0.4\n",
      "1 *2 *1 2 1 2 1 2 1 \n",
      "PLAYER 1 WINS!\n",
      "P1 time: 3.90 seconds MOVES: 5 | P2 time0.00 seconds MOVES: 4\n",
      "Starting game <class 'bots.montecarlo.MonteCarloBot'>  vs.  <class 'bots.onesteplook.OneStepLookAheadBot'> noise: 0.4\n",
      "2 1 *2 *1 *2 *1 2 1 *2 1 2 1 *2 1 *2 *1 2 1 2 1 \n",
      "PLAYER 1 WINS!\n",
      "P1 time: 7.67 seconds MOVES: 10 | P2 time0.01 seconds MOVES: 10\n",
      "Starting game <class 'bots.montecarlo.MonteCarloBot'>  vs.  <class 'bots.minimax.MiniMaxBot'> noise: 0.4\n",
      "*2 *1 2 *1 *2 1 *2 *1 2 \n",
      "PLAYER 2 WINS!\n",
      "P1 time: 2.58 seconds MOVES: 4 | P2 time24.36 seconds MOVES: 5\n",
      "Starting game <class 'bots.montecarlo.MonteCarloBot'>  vs.  <class 'bots.montecarlo.MonteCarloBot'> noise: 0.4\n",
      "1 2 1 *2 *1 *2 1 *2 *1 *2 1 \n",
      "PLAYER 1 WINS!\n",
      "P1 time: 4.04 seconds MOVES: 6 | P2 time3.50 seconds MOVES: 5\n"
     ]
    },
    {
     "data": {
      "image/png": "[encoded data removed]",
      "text/plain": [
       "<Figure size 432x288 with 1 Axes>"
      ]
     },
     "metadata": {
      "needs_background": "light"
     },
     "output_type": "display_data"
    },
    {
     "name": "stdout",
     "output_type": "stream",
     "text": [
      "[[2, -4, -4, -4], [0, 0, -2, -2], [4, 0, 2, -4], [4, 2, -2, 2]]\n",
      "Round 4\n",
      "Starting game <class 'bots.random.RandomBot'>  vs.  <class 'bots.random.RandomBot'> noise: 0.4\n",
      "2 1 2 *1 *2 1 2 1 2 *1 2 1 *2 1 2 *1 2 1 *2 1 *2 *1 *2 \n",
      "PLAYER 2 WINS!\n",
      "P1 time: 0.00 seconds MOVES: 11 | P2 time0.00 seconds MOVES: 12\n",
      "Starting game <class 'bots.random.RandomBot'>  vs.  <class 'bots.onesteplook.OneStepLookAheadBot'> noise: 0.4\n",
      "1 *2 1 2 1 2 1 2 1 *2 1 2 1 2 1 2 1 *2 *1 2 *1 2 \n",
      "PLAYER 2 WINS!\n",
      "P1 time: 0.00 seconds MOVES: 11 | P2 time0.01 seconds MOVES: 11\n",
      "Starting game <class 'bots.random.RandomBot'>  vs.  <class 'bots.minimax.MiniMaxBot'> noise: 0.4\n",
      "1 2 1 2 1 2 *1 2 *1 *2 \n",
      "PLAYER 2 WINS!\n",
      "P1 time: 0.00 seconds MOVES: 5 | P2 time31.22 seconds MOVES: 5\n",
      "Starting game <class 'bots.random.RandomBot'>  vs.  <class 'bots.montecarlo.MonteCarloBot'> noise: 0.4\n",
      "1 *2 1 *2 1 2 1 *2 1 2 *1 *2 *1 *2 \n",
      "PLAYER 2 WINS!\n",
      "P1 time: 0.00 seconds MOVES: 7 | P2 time5.13 seconds MOVES: 7\n",
      "Starting game <class 'bots.onesteplook.OneStepLookAheadBot'>  vs.  <class 'bots.random.RandomBot'> noise: 0.4\n",
      "1 *2 1 2 *1 2 1 *2 1 *2 1 *2 1 2 *1 *2 1 2 1 2 *1 2 *1 2 \n",
      "PLAYER 2 WINS!\n",
      "P1 time: 0.01 seconds MOVES: 12 | P2 time0.00 seconds MOVES: 12\n",
      "Starting game <class 'bots.onesteplook.OneStepLookAheadBot'>  vs.  <class 'bots.onesteplook.OneStepLookAheadBot'> noise: 0.4\n",
      "1 2 *1 2 1 2 *1 *2 1 2 *1 *2 1 2 *1 2 1 *2 *1 2 *1 *2 1 \n",
      "PLAYER 1 WINS!\n",
      "P1 time: 0.01 seconds MOVES: 12 | P2 time0.01 seconds MOVES: 11\n",
      "Starting game <class 'bots.onesteplook.OneStepLookAheadBot'>  vs.  <class 'bots.minimax.MiniMaxBot'> noise: 0.4\n",
      "*2 1 *2 *1 *2 1 2 1 2 *1 2 *1 2 \n",
      "PLAYER 2 WINS!\n",
      "P1 time: 0.00 seconds MOVES: 6 | P2 time48.33 seconds MOVES: 7\n",
      "Starting game <class 'bots.onesteplook.OneStepLookAheadBot'>  vs.  <class 'bots.montecarlo.MonteCarloBot'> noise: 0.4\n",
      "1 *2 1 *2 1 *2 1 2 *1 2 1 2 1 2 *1 *2 *1 2 1 2 *1 *2 1 2 *1 *2 1 2 *1 2 \n",
      "PLAYER 2 WINS!\n",
      "P1 time: 0.01 seconds MOVES: 15 | P2 time10.93 seconds MOVES: 15\n",
      "Starting game <class 'bots.minimax.MiniMaxBot'>  vs.  <class 'bots.random.RandomBot'> noise: 0.4\n",
      "*1 *2 1 *2 1 *2 *1 2 1 *2 1 2 *1 2 1 *2 *1 \n",
      "PLAYER 1 WINS!\n",
      "P1 time: 36.11 seconds MOVES: 9 | P2 time0.00 seconds MOVES: 8\n",
      "Starting game <class 'bots.minimax.MiniMaxBot'>  vs.  <class 'bots.onesteplook.OneStepLookAheadBot'> noise: 0.4\n",
      "2 *1 2 1 2 1 2 1 2 1 2 *1 *2 1 *2 *1 2 *1 2 *1 2 \n",
      "PLAYER 2 WINS!\n",
      "P1 time: 83.07 seconds MOVES: 10 | P2 time0.01 seconds MOVES: 11\n",
      "Starting game <class 'bots.minimax.MiniMaxBot'>  vs.  <class 'bots.minimax.MiniMaxBot'> noise: 0.4\n",
      "*1 *2 *1 *2 *1 2 1 *2 1 2 1 *2 *1 2 1 *2 1 *2 1 2 *1 *2 *1 *2 1 2 1 \n",
      "PLAYER 1 WINS!\n",
      "P1 time: 48.56 seconds MOVES: 14 | P2 time52.44 seconds MOVES: 13\n",
      "Starting game <class 'bots.minimax.MiniMaxBot'>  vs.  <class 'bots.montecarlo.MonteCarloBot'> noise: 0.4\n",
      "2 *1 2 1 2 *1 2 1 *2 1 2 *1 2 1 *2 *1 2 1 2 *1 *2 *1 *2 1 *2 *1 2 \n",
      "PLAYER 2 WINS!\n",
      "P1 time: 37.20 seconds MOVES: 13 | P2 time9.22 seconds MOVES: 14\n",
      "Starting game <class 'bots.montecarlo.MonteCarloBot'>  vs.  <class 'bots.random.RandomBot'> noise: 0.4\n",
      "1 2 1 2 *1 2 1 *2 1 \n",
      "PLAYER 1 WINS!\n",
      "P1 time: 3.25 seconds MOVES: 5 | P2 time0.00 seconds MOVES: 4\n",
      "Starting game <class 'bots.montecarlo.MonteCarloBot'>  vs.  <class 'bots.onesteplook.OneStepLookAheadBot'> noise: 0.4\n",
      "2 1 *2 1 2 *1 2 1 2 \n",
      "PLAYER 2 WINS!\n",
      "P1 time: 2.98 seconds MOVES: 4 | P2 time0.00 seconds MOVES: 5\n",
      "Starting game <class 'bots.montecarlo.MonteCarloBot'>  vs.  <class 'bots.minimax.MiniMaxBot'> noise: 0.4\n",
      "*1 2 1 *2 1 2 *1 2 *1 2 *1 2 \n",
      "PLAYER 2 WINS!\n",
      "P1 time: 4.75 seconds MOVES: 6 | P2 time44.28 seconds MOVES: 6\n",
      "Starting game <class 'bots.montecarlo.MonteCarloBot'>  vs.  <class 'bots.montecarlo.MonteCarloBot'> noise: 0.4\n",
      "1 *2 *1 *2 1 2 1 2 1 2 1 2 *1 *2 1 2 1 *2 *1 2 1 2 \n",
      "PLAYER 2 WINS!\n",
      "P1 time: 8.61 seconds MOVES: 11 | P2 time8.12 seconds MOVES: 11\n"
     ]
    },
    {
     "data": {
      "image/png": "[encoded data removed]",
      "text/plain": [
       "<Figure size 432x288 with 1 Axes>"
      ]
     },
     "metadata": {
      "needs_background": "light"
     },
     "output_type": "display_data"
    },
    {
     "name": "stdout",
     "output_type": "stream",
     "text": [
      "[[1, -5, -5, -5], [-1, 1, -3, -3], [5, -1, 3, -5], [5, 1, -3, 1]]\n"
     ]
    }
   ],
   "source": [
    "scores = [[0 for i in range(len(bot_map))] for j in range(len(bot_map))]\n",
    "for k in range(REPETITIONS):\n",
    "    print(f\"Round {k}\")\n",
    "    for i,p1class in enumerate(bot_map.values()):\n",
    "        for j,p2class in enumerate(bot_map.values()):\n",
    "            p1 = p1class(Board.PLAYER1_PIECE)\n",
    "            p2 = p2class(Board.PLAYER2_PIECE)\n",
    "            winner = connect4(p1,p2,False, noise= NOISE)\n",
    "            if winner==1:\n",
    "                scores[i][j] += 1\n",
    "            elif winner==2:\n",
    "                scores[i][j] -= 1\n",
    "    scores_noise = np.asarray(scores)/(k+1)\n",
    "    plt.imshow(scores_noise)\n",
    "    plt.show()\n",
    "    print(scores)"
   ]
  },
  {
   "cell_type": "code",
   "execution_count": 12,
   "id": "32a0f72f-8a95-4ced-861f-ffa89b45b205",
   "metadata": {},
   "outputs": [
    {
     "name": "stdout",
     "output_type": "stream",
     "text": [
      "[[ 0.2 -1.  -1.  -1. ]\n",
      " [-0.2  0.2 -0.6 -0.6]\n",
      " [ 1.  -0.2  0.6 -1. ]\n",
      " [ 1.   0.2 -0.6  0.2]]\n"
     ]
    },
    {
     "data": {
      "image/png": "[encoded data removed]",
      "text/plain": [
       "<Figure size 432x288 with 1 Axes>"
      ]
     },
     "metadata": {
      "needs_background": "light"
     },
     "output_type": "display_data"
    }
   ],
   "source": [
    "scores_noise = np.asarray(scores)/REPETITIONS\n",
    "print(scores_noise)\n",
    "plt.imshow(scores_noise, cmap='hot', interpolation='nearest')\n",
    "plt.show()"
   ]
  },
  {
   "cell_type": "code",
   "execution_count": 13,
   "id": "1556b91c-ea6f-4179-ae3f-d8460575a172",
   "metadata": {},
   "outputs": [
    {
     "data": {
      "image/png": "[encoded data removed]",
      "text/plain": [
       "<Figure size 1008x432 with 3 Axes>"
      ]
     },
     "metadata": {
      "needs_background": "light"
     },
     "output_type": "display_data"
    }
   ],
   "source": [
    "fig ,(ax0, ax) = plt.subplots(1,2 , figsize = (14,6))\n",
    "heatmap = ax.imshow(scores_noise)\n",
    "ax.set_title(\"Performance with noise\")\n",
    " \n",
    "bot_names = bot_map.keys()\n",
    "ax.set_xticks(np.arange(len(bot_names)), labels=bot_names)\n",
    "ax.set_yticks(np.arange(len(bot_names)), labels=bot_names)\n",
    "plt.setp(ax.get_xticklabels(), rotation=45, ha=\"right\",\n",
    "         rotation_mode=\"anchor\")\n",
    "\n",
    "heatmap = ax0.imshow(scores_nonoise)\n",
    "ax0.set_title(\"Performance witout noise\")\n",
    "#fig.colorbar(heatmap,ax=ax0) \n",
    "bot_names = bot_map.keys()\n",
    "ax0.set_xticks(np.arange(len(bot_names)), labels=bot_names)\n",
    "ax0.set_yticks(np.arange(len(bot_names)), labels=bot_names)\n",
    "plt.setp(ax0.get_xticklabels(), rotation=45, ha=\"right\",\n",
    "         rotation_mode=\"anchor\")\n",
    "fig.subplots_adjust(right=0.8)\n",
    "cbar_ax = fig.add_axes([0.85, 0.15, 0.05, 0.7])\n",
    "\n",
    "fig.colorbar(heatmap, cax=cbar_ax)\n",
    "\n",
    "plt.show()\n"
   ]
  },
  {
   "cell_type": "code",
   "execution_count": 14,
   "id": "7f6095da-8bdd-4bfe-aad0-1f4811a202a4",
   "metadata": {},
   "outputs": [
    {
     "data": {
      "image/png": "[encoded data removed]",
      "text/plain": [
       "<Figure size 432x288 with 2 Axes>"
      ]
     },
     "metadata": {
      "needs_background": "light"
     },
     "output_type": "display_data"
    }
   ],
   "source": [
    "fig ,ax = plt.subplots()\n",
    "heatmap = ax.imshow(scores_nonoise)\n",
    "ax.set_title(\"Performance witout noise\")\n",
    "plt.colorbar(heatmap) \n",
    "bot_names = bot_map.keys()\n",
    "ax.set_xticks(np.arange(len(bot_names)), labels=bot_names)\n",
    "ax.set_yticks(np.arange(len(bot_names)), labels=bot_names)\n",
    "plt.setp(ax.get_xticklabels(), rotation=45, ha=\"right\",\n",
    "         rotation_mode=\"anchor\")\n",
    "plt.show()\n"
   ]
  },
  {
   "cell_type": "code",
   "execution_count": null,
   "id": "5790c038-6281-43e3-96e6-6c0dc599b46e",
   "metadata": {},
   "outputs": [],
   "source": []
  }
 ],
 "metadata": {
  "kernelspec": {
   "display_name": "dev",
   "language": "python",
   "name": "dev"
  },
  "language_info": {
   "codemirror_mode": {
    "name": "ipython",
    "version": 3
   },
   "file_extension": ".py",
   "mimetype": "text/x-python",
   "name": "python",
   "nbconvert_exporter": "python",
   "pygments_lexer": "ipython3",
   "version": "3.10.4"
  }
 },
 "nbformat": 4,
 "nbformat_minor": 5
}
